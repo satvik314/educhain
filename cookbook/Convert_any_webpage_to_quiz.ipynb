{
  "nbformat": 4,
  "nbformat_minor": 0,
  "metadata": {
    "colab": {
      "provenance": []
    },
    "kernelspec": {
      "name": "python3",
      "display_name": "Python 3"
    },
    "language_info": {
      "name": "python"
    }
  },
  "cells": [
    {
      "cell_type": "markdown",
      "source": [
        "[![Open In Colab](https://colab.research.google.com/assets/colab-badge.svg)](https://colab.research.google.com/drive/185Py9FXMLspaEqwmUAx0I1p-IeCa67zH?usp=sharing)"
      ],
      "metadata": {
        "id": "ScXuwxJl9uTo"
      }
    },
    {
      "cell_type": "markdown",
      "source": [
        "## Convert any webpage to quiz with [Educhain](https://github.com/satvik314/educhain)\n",
        "\n",
        "\n",
        "Explore the power of AI-driven education with Educhain! This notebook demonstrates how to create high-quality Multiple Choice Questions (MCQs) from any Web URL.\n",
        "\n",
        "Key Features of Educhain:\n",
        "- Generate MCQs from PDF files, web pages, and plain text\n",
        "- Customize difficulty levels and learning objectives\n",
        "- Export questions to CSV, JSON, or PDF formats\n",
        "- Leverage advanced language models for question generation"
      ],
      "metadata": {
        "id": "pZFj9oTc-LtI"
      }
    },
    {
      "cell_type": "code",
      "execution_count": null,
      "metadata": {
        "colab": {
          "base_uri": "https://localhost:8080/"
        },
        "id": "AUaUnlRo6pT3",
        "outputId": "aa5aa1cd-1b26-419b-e2e3-d83cff7174b4"
      },
      "outputs": [
        {
          "output_type": "stream",
          "name": "stdout",
          "text": [
            "\u001b[2K     \u001b[90m━━━━━━━━━━━━━━━━━━━━━━━━━━━━━━━━━━━━━━━━\u001b[0m \u001b[32m990.0/990.0 kB\u001b[0m \u001b[31m11.6 MB/s\u001b[0m eta \u001b[36m0:00:00\u001b[0m\n",
            "\u001b[2K     \u001b[90m━━━━━━━━━━━━━━━━━━━━━━━━━━━━━━━━━━━━━━━━\u001b[0m \u001b[32m2.3/2.3 MB\u001b[0m \u001b[31m14.9 MB/s\u001b[0m eta \u001b[36m0:00:00\u001b[0m\n",
            "\u001b[2K     \u001b[90m━━━━━━━━━━━━━━━━━━━━━━━━━━━━━━━━━━━━━━━━\u001b[0m \u001b[32m46.7/46.7 kB\u001b[0m \u001b[31m2.4 MB/s\u001b[0m eta \u001b[36m0:00:00\u001b[0m\n",
            "\u001b[2K     \u001b[90m━━━━━━━━━━━━━━━━━━━━━━━━━━━━━━━━━━━━━━━━\u001b[0m \u001b[32m337.0/337.0 kB\u001b[0m \u001b[31m11.3 MB/s\u001b[0m eta \u001b[36m0:00:00\u001b[0m\n",
            "\u001b[2K     \u001b[90m━━━━━━━━━━━━━━━━━━━━━━━━━━━━━━━━━━━━━━━━\u001b[0m \u001b[32m1.9/1.9 MB\u001b[0m \u001b[31m13.6 MB/s\u001b[0m eta \u001b[36m0:00:00\u001b[0m\n",
            "\u001b[2K     \u001b[90m━━━━━━━━━━━━━━━━━━━━━━━━━━━━━━━━━━━━━━━━\u001b[0m \u001b[32m232.6/232.6 kB\u001b[0m \u001b[31m8.8 MB/s\u001b[0m eta \u001b[36m0:00:00\u001b[0m\n",
            "\u001b[2K     \u001b[90m━━━━━━━━━━━━━━━━━━━━━━━━━━━━━━━━━━━━━━━━\u001b[0m \u001b[32m373.5/373.5 kB\u001b[0m \u001b[31m9.5 MB/s\u001b[0m eta \u001b[36m0:00:00\u001b[0m\n",
            "\u001b[2K     \u001b[90m━━━━━━━━━━━━━━━━━━━━━━━━━━━━━━━━━━━━━━━━\u001b[0m \u001b[32m139.8/139.8 kB\u001b[0m \u001b[31m7.0 MB/s\u001b[0m eta \u001b[36m0:00:00\u001b[0m\n",
            "\u001b[2K     \u001b[90m━━━━━━━━━━━━━━━━━━━━━━━━━━━━━━━━━━━━━━━━\u001b[0m \u001b[32m1.1/1.1 MB\u001b[0m \u001b[31m42.1 MB/s\u001b[0m eta \u001b[36m0:00:00\u001b[0m\n",
            "\u001b[2K     \u001b[90m━━━━━━━━━━━━━━━━━━━━━━━━━━━━━━━━━━━━━━━━\u001b[0m \u001b[32m75.6/75.6 kB\u001b[0m \u001b[31m4.1 MB/s\u001b[0m eta \u001b[36m0:00:00\u001b[0m\n",
            "\u001b[2K     \u001b[90m━━━━━━━━━━━━━━━━━━━━━━━━━━━━━━━━━━━━━━━━\u001b[0m \u001b[32m49.2/49.2 kB\u001b[0m \u001b[31m2.7 MB/s\u001b[0m eta \u001b[36m0:00:00\u001b[0m\n",
            "\u001b[2K     \u001b[90m━━━━━━━━━━━━━━━━━━━━━━━━━━━━━━━━━━━━━━━━\u001b[0m \u001b[32m77.9/77.9 kB\u001b[0m \u001b[31m5.8 MB/s\u001b[0m eta \u001b[36m0:00:00\u001b[0m\n",
            "\u001b[2K     \u001b[90m━━━━━━━━━━━━━━━━━━━━━━━━━━━━━━━━━━━━━━━━\u001b[0m \u001b[32m58.3/58.3 kB\u001b[0m \u001b[31m5.0 MB/s\u001b[0m eta \u001b[36m0:00:00\u001b[0m\n",
            "\u001b[2K     \u001b[90m━━━━━━━━━━━━━━━━━━━━━━━━━━━━━━━━━━━━━━━━\u001b[0m \u001b[32m141.1/141.1 kB\u001b[0m \u001b[31m4.2 MB/s\u001b[0m eta \u001b[36m0:00:00\u001b[0m\n",
            "\u001b[?25h"
          ]
        }
      ],
      "source": [
        "!pip install -qU educhain"
      ]
    },
    {
      "cell_type": "code",
      "source": [
        "import os\n",
        "from google.colab import userdata\n",
        "\n",
        "os.environ[\"OPENAI_API_KEY\"] = userdata.get('OPENAI_API_KEY')"
      ],
      "metadata": {
        "id": "e5R2skFs6wCq"
      },
      "execution_count": null,
      "outputs": []
    },
    {
      "cell_type": "code",
      "source": [
        "from educhain import Educhain\n",
        "from langchain_openai import ChatOpenAI\n",
        "\n",
        "gpt_4o_mini = ChatOpenAI(model = \"gpt-4o-mini\")\n",
        "\n",
        "client = Educhain()\n",
        "\n",
        "url_mcqs = qna_engine.generate_mcqs_from_data(\n",
        "        source=\"https://en.wikipedia.org/wiki/Butterfly_effect\",\n",
        "        source_type=\"url\",\n",
        "        num=5,\n",
        "        llm = gpt_4o_mini\n",
        "    )\n",
        "\n",
        "url_mcqs.show()"
      ],
      "metadata": {
        "colab": {
          "base_uri": "https://localhost:8080/"
        },
        "id": "-GIvZQuO6zKH",
        "outputId": "230790b6-50b9-4eb3-cb16-289024245d6a"
      },
      "execution_count": null,
      "outputs": [
        {
          "output_type": "stream",
          "name": "stdout",
          "text": [
            "Question 1:\n",
            "Question: What is the butterfly effect primarily associated with?\n",
            "Options:\n",
            "  A. Quantum mechanics\n",
            "  B. Sensitive dependence on initial conditions\n",
            "  C. Linear systems\n",
            "  D. Gravitational waves\n",
            "\n",
            "Correct Answer: Sensitive dependence on initial conditions\n",
            "Explanation: The butterfly effect refers to the phenomenon where a small change in initial conditions can lead to vastly different outcomes in complex systems, particularly highlighted in chaos theory.\n",
            "\n",
            "Question 2:\n",
            "Question: Who is credited with popularizing the term 'butterfly effect'?\n",
            "Options:\n",
            "  A. Henri Poincaré\n",
            "  B. Norbert Wiener\n",
            "  C. Edward Norton Lorenz\n",
            "  D. Ray Bradbury\n",
            "\n",
            "Correct Answer: Edward Norton Lorenz\n",
            "Explanation: Edward Norton Lorenz, a mathematician and meteorologist, is credited with the term 'butterfly effect' after he illustrated how small changes in initial conditions can lead to significant differences in outcomes.\n",
            "\n",
            "Question 3:\n",
            "Question: In what context is the butterfly effect most commonly discussed?\n",
            "Options:\n",
            "  A. Quantum mechanics\n",
            "  B. Weather prediction\n",
            "  C. Economic modeling\n",
            "  D. Biological systems\n",
            "\n",
            "Correct Answer: Weather prediction\n",
            "Explanation: The butterfly effect is most commonly discussed in the context of weather prediction, where minor changes in atmospheric conditions can lead to vastly different weather patterns.\n",
            "\n",
            "Question 4:\n",
            "Question: What metaphor does the butterfly effect use to illustrate its concept?\n",
            "Options:\n",
            "  A. A sea gull causing a hurricane\n",
            "  B. A butterfly flapping its wings causing a tornado\n",
            "  C. A pebble causing an avalanche\n",
            "  D. A tree falling in a forest\n",
            "\n",
            "Correct Answer: A butterfly flapping its wings causing a tornado\n",
            "Explanation: The butterfly effect uses the metaphor of a butterfly flapping its wings to suggest that small actions can lead to significant consequences, such as influencing the formation of a tornado.\n",
            "\n",
            "Question 5:\n",
            "Question: What does the phrase 'sensitive dependence on initial conditions' mean?\n",
            "Options:\n",
            "  A. The outcomes of a system are predictable based on its initial state.\n",
            "  B. Minor differences in initial states can lead to vastly different outcomes.\n",
            "  C. All systems behave predictably regardless of initial conditions.\n",
            "  D. Initial conditions have no impact on outcomes over time.\n",
            "\n",
            "Correct Answer: Minor differences in initial states can lead to vastly different outcomes.\n",
            "Explanation: Sensitive dependence on initial conditions refers to the idea that small changes at the beginning of a process can result in large differences in the end state, which is a fundamental characteristic of chaotic systems.\n",
            "\n"
          ]
        }
      ]
    },
    {
      "cell_type": "code",
      "source": [],
      "metadata": {
        "id": "ewgsof_97Ouk"
      },
      "execution_count": null,
      "outputs": []
    }
  ]
}