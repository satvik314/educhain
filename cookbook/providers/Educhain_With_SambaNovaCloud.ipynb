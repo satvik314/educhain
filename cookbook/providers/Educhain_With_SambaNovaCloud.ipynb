{
  "nbformat": 4,
  "nbformat_minor": 0,
  "metadata": {
    "colab": {
      "provenance": []
    },
    "kernelspec": {
      "name": "python3",
      "display_name": "Python 3"
    },
    "language_info": {
      "name": "python"
    }
  },
  "cells": [
    {
      "cell_type": "markdown",
      "source": [
        "<img src=\"https://github.com/Shubhwithai/GRE_Geometry_quiz/blob/main/Group%2042.png?raw=true\" width=\"\" height=\"50\">\n",
        "\n",
        "Educhain is a powerful Python package that leverages Generative AI to create\n",
        "engaging and personalized educational content. From generating multiple-choice questions to crafting comprehensive lesson plans, Educhain makes it easy to apply AI in various educational scenarios."
      ],
      "metadata": {
        "id": "Mz8bgljA2xo5"
      }
    },
    {
      "cell_type": "markdown",
      "source": [
        "[![Open In Colab](https://colab.research.google.com/assets/colab-badge.svg)](https://colab.research.google.com/drive/1aHARy4se9X-H5dyy2lbiDKprhbnX8fy6?usp=sharing)"
      ],
      "metadata": {
        "id": "thiLtYCOPUC9"
      }
    },
    {
      "cell_type": "markdown",
      "source": [
        "<img src=\"https://github.com/satvik314/educhain/blob/main/images/educhain_diagram.png?raw=true\" width=\"800\" height=\"500\">\n"
      ],
      "metadata": {
        "id": "r1rJRhc6J_W2"
      }
    },
    {
      "cell_type": "markdown",
      "source": [
        "# How to Use Educhain With SambaNovaCloud Model\n",
        "---"
      ],
      "metadata": {
        "id": "tIQKcRCVbBzT"
      }
    },
    {
      "cell_type": "markdown",
      "source": [
        "###Setup"
      ],
      "metadata": {
        "id": "Bgdt6TlVI3v5"
      }
    },
    {
      "cell_type": "code",
      "execution_count": null,
      "metadata": {
        "id": "7inIre43Ua6D",
        "outputId": "f507770a-6fbb-40b3-8b44-883258963e2f",
        "colab": {
          "base_uri": "https://localhost:8080/"
        },
        "collapsed": true
      },
      "outputs": [
        {
          "output_type": "stream",
          "name": "stdout",
          "text": [
            "Requirement already satisfied: langchain in /usr/local/lib/python3.11/dist-packages (0.3.23)\n",
            "Requirement already satisfied: langchain-sambanova in /usr/local/lib/python3.11/dist-packages (0.1.3)\n",
            "Requirement already satisfied: educhain in /usr/local/lib/python3.11/dist-packages (0.3.8)\n",
            "Requirement already satisfied: langchain-core<1.0.0,>=0.3.51 in /usr/local/lib/python3.11/dist-packages (from langchain) (0.3.51)\n",
            "Requirement already satisfied: langchain-text-splitters<1.0.0,>=0.3.8 in /usr/local/lib/python3.11/dist-packages (from langchain) (0.3.8)\n",
            "Requirement already satisfied: langsmith<0.4,>=0.1.17 in /usr/local/lib/python3.11/dist-packages (from langchain) (0.3.23)\n",
            "Requirement already satisfied: pydantic<3.0.0,>=2.7.4 in /usr/local/lib/python3.11/dist-packages (from langchain) (2.11.2)\n",
            "Requirement already satisfied: SQLAlchemy<3,>=1.4 in /usr/local/lib/python3.11/dist-packages (from langchain) (2.0.40)\n",
            "Requirement already satisfied: requests<3,>=2 in /usr/local/lib/python3.11/dist-packages (from langchain) (2.32.3)\n",
            "Requirement already satisfied: PyYAML>=5.3 in /usr/local/lib/python3.11/dist-packages (from langchain) (6.0.2)\n",
            "Requirement already satisfied: sseclient-py<2.0,>=1.8.0 in /usr/local/lib/python3.11/dist-packages (from langchain-sambanova) (1.8.0)\n",
            "Requirement already satisfied: types-requests in /usr/local/lib/python3.11/dist-packages (from langchain-sambanova) (2.32.0.20250328)\n",
            "Requirement already satisfied: langchain-community in /usr/local/lib/python3.11/dist-packages (from educhain) (0.3.21)\n",
            "Requirement already satisfied: langchain-openai in /usr/local/lib/python3.11/dist-packages (from educhain) (0.3.12)\n",
            "Requirement already satisfied: openai in /usr/local/lib/python3.11/dist-packages (from educhain) (1.70.0)\n",
            "Requirement already satisfied: python-dotenv in /usr/local/lib/python3.11/dist-packages (from educhain) (1.1.0)\n",
            "Requirement already satisfied: reportlab in /usr/local/lib/python3.11/dist-packages (from educhain) (4.3.1)\n",
            "Requirement already satisfied: PyPDF2 in /usr/local/lib/python3.11/dist-packages (from educhain) (3.0.1)\n",
            "Requirement already satisfied: beautifulsoup4 in /usr/local/lib/python3.11/dist-packages (from educhain) (4.13.3)\n",
            "Requirement already satisfied: youtube-transcript-api in /usr/local/lib/python3.11/dist-packages (from educhain) (1.0.3)\n",
            "Requirement already satisfied: chromadb in /usr/local/lib/python3.11/dist-packages (from educhain) (1.0.0)\n",
            "Requirement already satisfied: protobuf<5 in /usr/local/lib/python3.11/dist-packages (from educhain) (4.25.6)\n",
            "Requirement already satisfied: pillow in /usr/local/lib/python3.11/dist-packages (from educhain) (11.1.0)\n",
            "Requirement already satisfied: dataframe-image in /usr/local/lib/python3.11/dist-packages (from educhain) (0.2.7)\n",
            "Requirement already satisfied: langchain-google-genai in /usr/local/lib/python3.11/dist-packages (from educhain) (2.1.2)\n",
            "Requirement already satisfied: pandas in /usr/local/lib/python3.11/dist-packages (from educhain) (2.2.2)\n",
            "Requirement already satisfied: ipython in /usr/local/lib/python3.11/dist-packages (from educhain) (7.34.0)\n",
            "Requirement already satisfied: matplotlib in /usr/local/lib/python3.11/dist-packages (from educhain) (3.10.0)\n",
            "Requirement already satisfied: numpy in /usr/local/lib/python3.11/dist-packages (from educhain) (2.0.2)\n",
            "Requirement already satisfied: tenacity!=8.4.0,<10.0.0,>=8.1.0 in /usr/local/lib/python3.11/dist-packages (from langchain-core<1.0.0,>=0.3.51->langchain) (9.1.2)\n",
            "Requirement already satisfied: jsonpatch<2.0,>=1.33 in /usr/local/lib/python3.11/dist-packages (from langchain-core<1.0.0,>=0.3.51->langchain) (1.33)\n",
            "Requirement already satisfied: packaging<25,>=23.2 in /usr/local/lib/python3.11/dist-packages (from langchain-core<1.0.0,>=0.3.51->langchain) (24.2)\n",
            "Requirement already satisfied: typing-extensions>=4.7 in /usr/local/lib/python3.11/dist-packages (from langchain-core<1.0.0,>=0.3.51->langchain) (4.13.1)\n",
            "Requirement already satisfied: httpx<1,>=0.23.0 in /usr/local/lib/python3.11/dist-packages (from langsmith<0.4,>=0.1.17->langchain) (0.28.1)\n",
            "Requirement already satisfied: orjson<4.0.0,>=3.9.14 in /usr/local/lib/python3.11/dist-packages (from langsmith<0.4,>=0.1.17->langchain) (3.10.16)\n",
            "Requirement already satisfied: requests-toolbelt<2.0.0,>=1.0.0 in /usr/local/lib/python3.11/dist-packages (from langsmith<0.4,>=0.1.17->langchain) (1.0.0)\n",
            "Requirement already satisfied: zstandard<0.24.0,>=0.23.0 in /usr/local/lib/python3.11/dist-packages (from langsmith<0.4,>=0.1.17->langchain) (0.23.0)\n",
            "Requirement already satisfied: annotated-types>=0.6.0 in /usr/local/lib/python3.11/dist-packages (from pydantic<3.0.0,>=2.7.4->langchain) (0.7.0)\n",
            "Requirement already satisfied: pydantic-core==2.33.1 in /usr/local/lib/python3.11/dist-packages (from pydantic<3.0.0,>=2.7.4->langchain) (2.33.1)\n",
            "Requirement already satisfied: typing-inspection>=0.4.0 in /usr/local/lib/python3.11/dist-packages (from pydantic<3.0.0,>=2.7.4->langchain) (0.4.0)\n",
            "Requirement already satisfied: charset-normalizer<4,>=2 in /usr/local/lib/python3.11/dist-packages (from requests<3,>=2->langchain) (3.4.1)\n",
            "Requirement already satisfied: idna<4,>=2.5 in /usr/local/lib/python3.11/dist-packages (from requests<3,>=2->langchain) (3.10)\n",
            "Requirement already satisfied: urllib3<3,>=1.21.1 in /usr/local/lib/python3.11/dist-packages (from requests<3,>=2->langchain) (2.3.0)\n",
            "Requirement already satisfied: certifi>=2017.4.17 in /usr/local/lib/python3.11/dist-packages (from requests<3,>=2->langchain) (2025.1.31)\n",
            "Requirement already satisfied: greenlet>=1 in /usr/local/lib/python3.11/dist-packages (from SQLAlchemy<3,>=1.4->langchain) (3.1.1)\n",
            "Requirement already satisfied: soupsieve>1.2 in /usr/local/lib/python3.11/dist-packages (from beautifulsoup4->educhain) (2.6)\n",
            "Requirement already satisfied: build>=1.0.3 in /usr/local/lib/python3.11/dist-packages (from chromadb->educhain) (1.2.2.post1)\n",
            "Requirement already satisfied: chroma-hnswlib==0.7.6 in /usr/local/lib/python3.11/dist-packages (from chromadb->educhain) (0.7.6)\n",
            "Requirement already satisfied: fastapi==0.115.9 in /usr/local/lib/python3.11/dist-packages (from chromadb->educhain) (0.115.9)\n",
            "Requirement already satisfied: uvicorn>=0.18.3 in /usr/local/lib/python3.11/dist-packages (from uvicorn[standard]>=0.18.3->chromadb->educhain) (0.34.0)\n",
            "Requirement already satisfied: posthog>=2.4.0 in /usr/local/lib/python3.11/dist-packages (from chromadb->educhain) (3.23.0)\n",
            "Requirement already satisfied: onnxruntime>=1.14.1 in /usr/local/lib/python3.11/dist-packages (from chromadb->educhain) (1.21.0)\n",
            "Requirement already satisfied: opentelemetry-api>=1.2.0 in /usr/local/lib/python3.11/dist-packages (from chromadb->educhain) (1.27.0)\n",
            "Requirement already satisfied: opentelemetry-exporter-otlp-proto-grpc>=1.2.0 in /usr/local/lib/python3.11/dist-packages (from chromadb->educhain) (1.27.0)\n",
            "Requirement already satisfied: opentelemetry-instrumentation-fastapi>=0.41b0 in /usr/local/lib/python3.11/dist-packages (from chromadb->educhain) (0.48b0)\n",
            "Requirement already satisfied: opentelemetry-sdk>=1.2.0 in /usr/local/lib/python3.11/dist-packages (from chromadb->educhain) (1.27.0)\n",
            "Requirement already satisfied: tokenizers>=0.13.2 in /usr/local/lib/python3.11/dist-packages (from chromadb->educhain) (0.21.1)\n",
            "Requirement already satisfied: pypika>=0.48.9 in /usr/local/lib/python3.11/dist-packages (from chromadb->educhain) (0.48.9)\n",
            "Requirement already satisfied: tqdm>=4.65.0 in /usr/local/lib/python3.11/dist-packages (from chromadb->educhain) (4.67.1)\n",
            "Requirement already satisfied: overrides>=7.3.1 in /usr/local/lib/python3.11/dist-packages (from chromadb->educhain) (7.7.0)\n",
            "Requirement already satisfied: importlib-resources in /usr/local/lib/python3.11/dist-packages (from chromadb->educhain) (6.5.2)\n",
            "Requirement already satisfied: grpcio>=1.58.0 in /usr/local/lib/python3.11/dist-packages (from chromadb->educhain) (1.71.0)\n",
            "Requirement already satisfied: bcrypt>=4.0.1 in /usr/local/lib/python3.11/dist-packages (from chromadb->educhain) (4.3.0)\n",
            "Requirement already satisfied: typer>=0.9.0 in /usr/local/lib/python3.11/dist-packages (from chromadb->educhain) (0.15.2)\n",
            "Requirement already satisfied: kubernetes>=28.1.0 in /usr/local/lib/python3.11/dist-packages (from chromadb->educhain) (32.0.1)\n",
            "Requirement already satisfied: mmh3>=4.0.1 in /usr/local/lib/python3.11/dist-packages (from chromadb->educhain) (5.1.0)\n",
            "Requirement already satisfied: rich>=10.11.0 in /usr/local/lib/python3.11/dist-packages (from chromadb->educhain) (13.9.4)\n",
            "Requirement already satisfied: jsonschema>=4.19.0 in /usr/local/lib/python3.11/dist-packages (from chromadb->educhain) (4.23.0)\n",
            "Requirement already satisfied: starlette<0.46.0,>=0.40.0 in /usr/local/lib/python3.11/dist-packages (from fastapi==0.115.9->chromadb->educhain) (0.45.3)\n",
            "Requirement already satisfied: nbconvert>=5 in /usr/local/lib/python3.11/dist-packages (from dataframe-image->educhain) (7.16.6)\n",
            "Requirement already satisfied: aiohttp>=3.10.2 in /usr/local/lib/python3.11/dist-packages (from dataframe-image->educhain) (3.11.15)\n",
            "Requirement already satisfied: mistune in /usr/local/lib/python3.11/dist-packages (from dataframe-image->educhain) (3.1.3)\n",
            "Requirement already satisfied: lxml in /usr/local/lib/python3.11/dist-packages (from dataframe-image->educhain) (5.3.1)\n",
            "Requirement already satisfied: cssutils in /usr/local/lib/python3.11/dist-packages (from dataframe-image->educhain) (2.11.1)\n",
            "Requirement already satisfied: playwright in /usr/local/lib/python3.11/dist-packages (from dataframe-image->educhain) (1.51.0)\n",
            "Requirement already satisfied: cssselect in /usr/local/lib/python3.11/dist-packages (from dataframe-image->educhain) (1.3.0)\n",
            "Requirement already satisfied: python-dateutil>=2.8.2 in /usr/local/lib/python3.11/dist-packages (from pandas->educhain) (2.8.2)\n",
            "Requirement already satisfied: pytz>=2020.1 in /usr/local/lib/python3.11/dist-packages (from pandas->educhain) (2025.2)\n",
            "Requirement already satisfied: tzdata>=2022.7 in /usr/local/lib/python3.11/dist-packages (from pandas->educhain) (2025.2)\n",
            "Requirement already satisfied: setuptools>=18.5 in /usr/local/lib/python3.11/dist-packages (from ipython->educhain) (75.2.0)\n",
            "Requirement already satisfied: jedi>=0.16 in /usr/local/lib/python3.11/dist-packages (from ipython->educhain) (0.19.2)\n",
            "Requirement already satisfied: decorator in /usr/local/lib/python3.11/dist-packages (from ipython->educhain) (4.4.2)\n",
            "Requirement already satisfied: pickleshare in /usr/local/lib/python3.11/dist-packages (from ipython->educhain) (0.7.5)\n",
            "Requirement already satisfied: traitlets>=4.2 in /usr/local/lib/python3.11/dist-packages (from ipython->educhain) (5.7.1)\n",
            "Requirement already satisfied: prompt-toolkit!=3.0.0,!=3.0.1,<3.1.0,>=2.0.0 in /usr/local/lib/python3.11/dist-packages (from ipython->educhain) (3.0.50)\n",
            "Requirement already satisfied: pygments in /usr/local/lib/python3.11/dist-packages (from ipython->educhain) (2.18.0)\n",
            "Requirement already satisfied: backcall in /usr/local/lib/python3.11/dist-packages (from ipython->educhain) (0.2.0)\n",
            "Requirement already satisfied: matplotlib-inline in /usr/local/lib/python3.11/dist-packages (from ipython->educhain) (0.1.7)\n",
            "Requirement already satisfied: pexpect>4.3 in /usr/local/lib/python3.11/dist-packages (from ipython->educhain) (4.9.0)\n",
            "Requirement already satisfied: dataclasses-json<0.7,>=0.5.7 in /usr/local/lib/python3.11/dist-packages (from langchain-community->educhain) (0.6.7)\n",
            "Requirement already satisfied: pydantic-settings<3.0.0,>=2.4.0 in /usr/local/lib/python3.11/dist-packages (from langchain-community->educhain) (2.8.1)\n",
            "Requirement already satisfied: httpx-sse<1.0.0,>=0.4.0 in /usr/local/lib/python3.11/dist-packages (from langchain-community->educhain) (0.4.0)\n",
            "Requirement already satisfied: filetype<2.0.0,>=1.2.0 in /usr/local/lib/python3.11/dist-packages (from langchain-google-genai->educhain) (1.2.0)\n",
            "Requirement already satisfied: google-ai-generativelanguage<0.7.0,>=0.6.16 in /usr/local/lib/python3.11/dist-packages (from langchain-google-genai->educhain) (0.6.17)\n",
            "Requirement already satisfied: tiktoken<1,>=0.7 in /usr/local/lib/python3.11/dist-packages (from langchain-openai->educhain) (0.9.0)\n",
            "Requirement already satisfied: anyio<5,>=3.5.0 in /usr/local/lib/python3.11/dist-packages (from openai->educhain) (4.9.0)\n",
            "Requirement already satisfied: distro<2,>=1.7.0 in /usr/local/lib/python3.11/dist-packages (from openai->educhain) (1.9.0)\n",
            "Requirement already satisfied: jiter<1,>=0.4.0 in /usr/local/lib/python3.11/dist-packages (from openai->educhain) (0.9.0)\n",
            "Requirement already satisfied: sniffio in /usr/local/lib/python3.11/dist-packages (from openai->educhain) (1.3.1)\n",
            "Requirement already satisfied: contourpy>=1.0.1 in /usr/local/lib/python3.11/dist-packages (from matplotlib->educhain) (1.3.1)\n",
            "Requirement already satisfied: cycler>=0.10 in /usr/local/lib/python3.11/dist-packages (from matplotlib->educhain) (0.12.1)\n",
            "Requirement already satisfied: fonttools>=4.22.0 in /usr/local/lib/python3.11/dist-packages (from matplotlib->educhain) (4.57.0)\n",
            "Requirement already satisfied: kiwisolver>=1.3.1 in /usr/local/lib/python3.11/dist-packages (from matplotlib->educhain) (1.4.8)\n",
            "Requirement already satisfied: pyparsing>=2.3.1 in /usr/local/lib/python3.11/dist-packages (from matplotlib->educhain) (3.2.3)\n",
            "Requirement already satisfied: chardet in /usr/local/lib/python3.11/dist-packages (from reportlab->educhain) (5.2.0)\n",
            "Requirement already satisfied: defusedxml<0.8.0,>=0.7.1 in /usr/local/lib/python3.11/dist-packages (from youtube-transcript-api->educhain) (0.7.1)\n",
            "Requirement already satisfied: aiohappyeyeballs>=2.3.0 in /usr/local/lib/python3.11/dist-packages (from aiohttp>=3.10.2->dataframe-image->educhain) (2.6.1)\n",
            "Requirement already satisfied: aiosignal>=1.1.2 in /usr/local/lib/python3.11/dist-packages (from aiohttp>=3.10.2->dataframe-image->educhain) (1.3.2)\n",
            "Requirement already satisfied: attrs>=17.3.0 in /usr/local/lib/python3.11/dist-packages (from aiohttp>=3.10.2->dataframe-image->educhain) (25.3.0)\n",
            "Requirement already satisfied: frozenlist>=1.1.1 in /usr/local/lib/python3.11/dist-packages (from aiohttp>=3.10.2->dataframe-image->educhain) (1.5.0)\n",
            "Requirement already satisfied: multidict<7.0,>=4.5 in /usr/local/lib/python3.11/dist-packages (from aiohttp>=3.10.2->dataframe-image->educhain) (6.2.0)\n",
            "Requirement already satisfied: propcache>=0.2.0 in /usr/local/lib/python3.11/dist-packages (from aiohttp>=3.10.2->dataframe-image->educhain) (0.3.1)\n",
            "Requirement already satisfied: yarl<2.0,>=1.17.0 in /usr/local/lib/python3.11/dist-packages (from aiohttp>=3.10.2->dataframe-image->educhain) (1.18.3)\n",
            "Requirement already satisfied: pyproject_hooks in /usr/local/lib/python3.11/dist-packages (from build>=1.0.3->chromadb->educhain) (1.2.0)\n",
            "Requirement already satisfied: marshmallow<4.0.0,>=3.18.0 in /usr/local/lib/python3.11/dist-packages (from dataclasses-json<0.7,>=0.5.7->langchain-community->educhain) (3.26.1)\n",
            "Requirement already satisfied: typing-inspect<1,>=0.4.0 in /usr/local/lib/python3.11/dist-packages (from dataclasses-json<0.7,>=0.5.7->langchain-community->educhain) (0.9.0)\n",
            "Requirement already satisfied: google-api-core!=2.0.*,!=2.1.*,!=2.10.*,!=2.2.*,!=2.3.*,!=2.4.*,!=2.5.*,!=2.6.*,!=2.7.*,!=2.8.*,!=2.9.*,<3.0.0,>=1.34.1 in /usr/local/lib/python3.11/dist-packages (from google-api-core[grpc]!=2.0.*,!=2.1.*,!=2.10.*,!=2.2.*,!=2.3.*,!=2.4.*,!=2.5.*,!=2.6.*,!=2.7.*,!=2.8.*,!=2.9.*,<3.0.0,>=1.34.1->google-ai-generativelanguage<0.7.0,>=0.6.16->langchain-google-genai->educhain) (2.24.2)\n",
            "Requirement already satisfied: google-auth!=2.24.0,!=2.25.0,<3.0.0,>=2.14.1 in /usr/local/lib/python3.11/dist-packages (from google-ai-generativelanguage<0.7.0,>=0.6.16->langchain-google-genai->educhain) (2.38.0)\n",
            "Requirement already satisfied: proto-plus<2.0.0,>=1.22.3 in /usr/local/lib/python3.11/dist-packages (from google-ai-generativelanguage<0.7.0,>=0.6.16->langchain-google-genai->educhain) (1.26.1)\n",
            "Requirement already satisfied: httpcore==1.* in /usr/local/lib/python3.11/dist-packages (from httpx<1,>=0.23.0->langsmith<0.4,>=0.1.17->langchain) (1.0.7)\n",
            "Requirement already satisfied: h11<0.15,>=0.13 in /usr/local/lib/python3.11/dist-packages (from httpcore==1.*->httpx<1,>=0.23.0->langsmith<0.4,>=0.1.17->langchain) (0.14.0)\n",
            "Requirement already satisfied: parso<0.9.0,>=0.8.4 in /usr/local/lib/python3.11/dist-packages (from jedi>=0.16->ipython->educhain) (0.8.4)\n",
            "Requirement already satisfied: jsonpointer>=1.9 in /usr/local/lib/python3.11/dist-packages (from jsonpatch<2.0,>=1.33->langchain-core<1.0.0,>=0.3.51->langchain) (3.0.0)\n",
            "Requirement already satisfied: jsonschema-specifications>=2023.03.6 in /usr/local/lib/python3.11/dist-packages (from jsonschema>=4.19.0->chromadb->educhain) (2024.10.1)\n",
            "Requirement already satisfied: referencing>=0.28.4 in /usr/local/lib/python3.11/dist-packages (from jsonschema>=4.19.0->chromadb->educhain) (0.36.2)\n",
            "Requirement already satisfied: rpds-py>=0.7.1 in /usr/local/lib/python3.11/dist-packages (from jsonschema>=4.19.0->chromadb->educhain) (0.24.0)\n",
            "Requirement already satisfied: six>=1.9.0 in /usr/local/lib/python3.11/dist-packages (from kubernetes>=28.1.0->chromadb->educhain) (1.17.0)\n",
            "Requirement already satisfied: websocket-client!=0.40.0,!=0.41.*,!=0.42.*,>=0.32.0 in /usr/local/lib/python3.11/dist-packages (from kubernetes>=28.1.0->chromadb->educhain) (1.8.0)\n",
            "Requirement already satisfied: requests-oauthlib in /usr/local/lib/python3.11/dist-packages (from kubernetes>=28.1.0->chromadb->educhain) (2.0.0)\n",
            "Requirement already satisfied: oauthlib>=3.2.2 in /usr/local/lib/python3.11/dist-packages (from kubernetes>=28.1.0->chromadb->educhain) (3.2.2)\n",
            "Requirement already satisfied: durationpy>=0.7 in /usr/local/lib/python3.11/dist-packages (from kubernetes>=28.1.0->chromadb->educhain) (0.9)\n",
            "Requirement already satisfied: bleach!=5.0.0 in /usr/local/lib/python3.11/dist-packages (from bleach[css]!=5.0.0->nbconvert>=5->dataframe-image->educhain) (6.2.0)\n",
            "Requirement already satisfied: jinja2>=3.0 in /usr/local/lib/python3.11/dist-packages (from nbconvert>=5->dataframe-image->educhain) (3.1.6)\n",
            "Requirement already satisfied: jupyter-core>=4.7 in /usr/local/lib/python3.11/dist-packages (from nbconvert>=5->dataframe-image->educhain) (5.7.2)\n",
            "Requirement already satisfied: jupyterlab-pygments in /usr/local/lib/python3.11/dist-packages (from nbconvert>=5->dataframe-image->educhain) (0.3.0)\n",
            "Requirement already satisfied: markupsafe>=2.0 in /usr/local/lib/python3.11/dist-packages (from nbconvert>=5->dataframe-image->educhain) (3.0.2)\n",
            "Requirement already satisfied: nbclient>=0.5.0 in /usr/local/lib/python3.11/dist-packages (from nbconvert>=5->dataframe-image->educhain) (0.10.2)\n",
            "Requirement already satisfied: nbformat>=5.7 in /usr/local/lib/python3.11/dist-packages (from nbconvert>=5->dataframe-image->educhain) (5.10.4)\n",
            "Requirement already satisfied: pandocfilters>=1.4.1 in /usr/local/lib/python3.11/dist-packages (from nbconvert>=5->dataframe-image->educhain) (1.5.1)\n",
            "Requirement already satisfied: coloredlogs in /usr/local/lib/python3.11/dist-packages (from onnxruntime>=1.14.1->chromadb->educhain) (15.0.1)\n",
            "Requirement already satisfied: flatbuffers in /usr/local/lib/python3.11/dist-packages (from onnxruntime>=1.14.1->chromadb->educhain) (25.2.10)\n",
            "Requirement already satisfied: sympy in /usr/local/lib/python3.11/dist-packages (from onnxruntime>=1.14.1->chromadb->educhain) (1.13.1)\n",
            "Requirement already satisfied: deprecated>=1.2.6 in /usr/local/lib/python3.11/dist-packages (from opentelemetry-api>=1.2.0->chromadb->educhain) (1.2.18)\n",
            "Requirement already satisfied: importlib-metadata<=8.4.0,>=6.0 in /usr/local/lib/python3.11/dist-packages (from opentelemetry-api>=1.2.0->chromadb->educhain) (8.4.0)\n",
            "Requirement already satisfied: googleapis-common-protos~=1.52 in /usr/local/lib/python3.11/dist-packages (from opentelemetry-exporter-otlp-proto-grpc>=1.2.0->chromadb->educhain) (1.69.2)\n",
            "Requirement already satisfied: opentelemetry-exporter-otlp-proto-common==1.27.0 in /usr/local/lib/python3.11/dist-packages (from opentelemetry-exporter-otlp-proto-grpc>=1.2.0->chromadb->educhain) (1.27.0)\n",
            "Requirement already satisfied: opentelemetry-proto==1.27.0 in /usr/local/lib/python3.11/dist-packages (from opentelemetry-exporter-otlp-proto-grpc>=1.2.0->chromadb->educhain) (1.27.0)\n",
            "Requirement already satisfied: opentelemetry-instrumentation-asgi==0.48b0 in /usr/local/lib/python3.11/dist-packages (from opentelemetry-instrumentation-fastapi>=0.41b0->chromadb->educhain) (0.48b0)\n",
            "Requirement already satisfied: opentelemetry-instrumentation==0.48b0 in /usr/local/lib/python3.11/dist-packages (from opentelemetry-instrumentation-fastapi>=0.41b0->chromadb->educhain) (0.48b0)\n",
            "Requirement already satisfied: opentelemetry-semantic-conventions==0.48b0 in /usr/local/lib/python3.11/dist-packages (from opentelemetry-instrumentation-fastapi>=0.41b0->chromadb->educhain) (0.48b0)\n",
            "Requirement already satisfied: opentelemetry-util-http==0.48b0 in /usr/local/lib/python3.11/dist-packages (from opentelemetry-instrumentation-fastapi>=0.41b0->chromadb->educhain) (0.48b0)\n",
            "Requirement already satisfied: wrapt<2.0.0,>=1.0.0 in /usr/local/lib/python3.11/dist-packages (from opentelemetry-instrumentation==0.48b0->opentelemetry-instrumentation-fastapi>=0.41b0->chromadb->educhain) (1.17.2)\n",
            "Requirement already satisfied: asgiref~=3.0 in /usr/local/lib/python3.11/dist-packages (from opentelemetry-instrumentation-asgi==0.48b0->opentelemetry-instrumentation-fastapi>=0.41b0->chromadb->educhain) (3.8.1)\n",
            "Requirement already satisfied: ptyprocess>=0.5 in /usr/local/lib/python3.11/dist-packages (from pexpect>4.3->ipython->educhain) (0.7.0)\n",
            "Requirement already satisfied: monotonic>=1.5 in /usr/local/lib/python3.11/dist-packages (from posthog>=2.4.0->chromadb->educhain) (1.6)\n",
            "Requirement already satisfied: backoff>=1.10.0 in /usr/local/lib/python3.11/dist-packages (from posthog>=2.4.0->chromadb->educhain) (2.2.1)\n",
            "Requirement already satisfied: wcwidth in /usr/local/lib/python3.11/dist-packages (from prompt-toolkit!=3.0.0,!=3.0.1,<3.1.0,>=2.0.0->ipython->educhain) (0.2.13)\n",
            "Requirement already satisfied: markdown-it-py>=2.2.0 in /usr/local/lib/python3.11/dist-packages (from rich>=10.11.0->chromadb->educhain) (3.0.0)\n",
            "Requirement already satisfied: regex>=2022.1.18 in /usr/local/lib/python3.11/dist-packages (from tiktoken<1,>=0.7->langchain-openai->educhain) (2024.11.6)\n",
            "Requirement already satisfied: huggingface-hub<1.0,>=0.16.4 in /usr/local/lib/python3.11/dist-packages (from tokenizers>=0.13.2->chromadb->educhain) (0.30.1)\n",
            "Requirement already satisfied: click>=8.0.0 in /usr/local/lib/python3.11/dist-packages (from typer>=0.9.0->chromadb->educhain) (8.1.8)\n",
            "Requirement already satisfied: shellingham>=1.3.0 in /usr/local/lib/python3.11/dist-packages (from typer>=0.9.0->chromadb->educhain) (1.5.4)\n",
            "Requirement already satisfied: httptools>=0.6.3 in /usr/local/lib/python3.11/dist-packages (from uvicorn[standard]>=0.18.3->chromadb->educhain) (0.6.4)\n",
            "Requirement already satisfied: uvloop!=0.15.0,!=0.15.1,>=0.14.0 in /usr/local/lib/python3.11/dist-packages (from uvicorn[standard]>=0.18.3->chromadb->educhain) (0.21.0)\n",
            "Requirement already satisfied: watchfiles>=0.13 in /usr/local/lib/python3.11/dist-packages (from uvicorn[standard]>=0.18.3->chromadb->educhain) (1.0.4)\n",
            "Requirement already satisfied: websockets>=10.4 in /usr/local/lib/python3.11/dist-packages (from uvicorn[standard]>=0.18.3->chromadb->educhain) (15.0.1)\n",
            "Requirement already satisfied: more-itertools in /usr/local/lib/python3.11/dist-packages (from cssutils->dataframe-image->educhain) (10.6.0)\n",
            "Requirement already satisfied: pyee<13,>=12 in /usr/local/lib/python3.11/dist-packages (from playwright->dataframe-image->educhain) (12.1.1)\n",
            "Requirement already satisfied: webencodings in /usr/local/lib/python3.11/dist-packages (from bleach!=5.0.0->bleach[css]!=5.0.0->nbconvert>=5->dataframe-image->educhain) (0.5.1)\n",
            "Requirement already satisfied: tinycss2<1.5,>=1.1.0 in /usr/local/lib/python3.11/dist-packages (from bleach[css]!=5.0.0->nbconvert>=5->dataframe-image->educhain) (1.4.0)\n",
            "Requirement already satisfied: grpcio-status<2.0.dev0,>=1.33.2 in /usr/local/lib/python3.11/dist-packages (from google-api-core[grpc]!=2.0.*,!=2.1.*,!=2.10.*,!=2.2.*,!=2.3.*,!=2.4.*,!=2.5.*,!=2.6.*,!=2.7.*,!=2.8.*,!=2.9.*,<3.0.0,>=1.34.1->google-ai-generativelanguage<0.7.0,>=0.6.16->langchain-google-genai->educhain) (1.62.3)\n",
            "Requirement already satisfied: cachetools<6.0,>=2.0.0 in /usr/local/lib/python3.11/dist-packages (from google-auth!=2.24.0,!=2.25.0,<3.0.0,>=2.14.1->google-ai-generativelanguage<0.7.0,>=0.6.16->langchain-google-genai->educhain) (5.5.2)\n",
            "Requirement already satisfied: pyasn1-modules>=0.2.1 in /usr/local/lib/python3.11/dist-packages (from google-auth!=2.24.0,!=2.25.0,<3.0.0,>=2.14.1->google-ai-generativelanguage<0.7.0,>=0.6.16->langchain-google-genai->educhain) (0.4.2)\n",
            "Requirement already satisfied: rsa<5,>=3.1.4 in /usr/local/lib/python3.11/dist-packages (from google-auth!=2.24.0,!=2.25.0,<3.0.0,>=2.14.1->google-ai-generativelanguage<0.7.0,>=0.6.16->langchain-google-genai->educhain) (4.9)\n",
            "Requirement already satisfied: filelock in /usr/local/lib/python3.11/dist-packages (from huggingface-hub<1.0,>=0.16.4->tokenizers>=0.13.2->chromadb->educhain) (3.18.0)\n",
            "Requirement already satisfied: fsspec>=2023.5.0 in /usr/local/lib/python3.11/dist-packages (from huggingface-hub<1.0,>=0.16.4->tokenizers>=0.13.2->chromadb->educhain) (2025.3.2)\n",
            "Requirement already satisfied: zipp>=0.5 in /usr/local/lib/python3.11/dist-packages (from importlib-metadata<=8.4.0,>=6.0->opentelemetry-api>=1.2.0->chromadb->educhain) (3.21.0)\n",
            "Requirement already satisfied: platformdirs>=2.5 in /usr/local/lib/python3.11/dist-packages (from jupyter-core>=4.7->nbconvert>=5->dataframe-image->educhain) (4.3.7)\n",
            "Requirement already satisfied: mdurl~=0.1 in /usr/local/lib/python3.11/dist-packages (from markdown-it-py>=2.2.0->rich>=10.11.0->chromadb->educhain) (0.1.2)\n",
            "Requirement already satisfied: jupyter-client>=6.1.12 in /usr/local/lib/python3.11/dist-packages (from nbclient>=0.5.0->nbconvert>=5->dataframe-image->educhain) (6.1.12)\n",
            "Requirement already satisfied: fastjsonschema>=2.15 in /usr/local/lib/python3.11/dist-packages (from nbformat>=5.7->nbconvert>=5->dataframe-image->educhain) (2.21.1)\n",
            "Requirement already satisfied: mypy-extensions>=0.3.0 in /usr/local/lib/python3.11/dist-packages (from typing-inspect<1,>=0.4.0->dataclasses-json<0.7,>=0.5.7->langchain-community->educhain) (1.0.0)\n",
            "Requirement already satisfied: humanfriendly>=9.1 in /usr/local/lib/python3.11/dist-packages (from coloredlogs->onnxruntime>=1.14.1->chromadb->educhain) (10.0)\n",
            "Requirement already satisfied: mpmath<1.4,>=1.1.0 in /usr/local/lib/python3.11/dist-packages (from sympy->onnxruntime>=1.14.1->chromadb->educhain) (1.3.0)\n",
            "Requirement already satisfied: pyzmq>=13 in /usr/local/lib/python3.11/dist-packages (from jupyter-client>=6.1.12->nbclient>=0.5.0->nbconvert>=5->dataframe-image->educhain) (24.0.1)\n",
            "Requirement already satisfied: tornado>=4.1 in /usr/local/lib/python3.11/dist-packages (from jupyter-client>=6.1.12->nbclient>=0.5.0->nbconvert>=5->dataframe-image->educhain) (6.4.2)\n",
            "Requirement already satisfied: pyasn1<0.7.0,>=0.6.1 in /usr/local/lib/python3.11/dist-packages (from pyasn1-modules>=0.2.1->google-auth!=2.24.0,!=2.25.0,<3.0.0,>=2.14.1->google-ai-generativelanguage<0.7.0,>=0.6.16->langchain-google-genai->educhain) (0.6.1)\n"
          ]
        }
      ],
      "source": [
        "!pip install langchain langchain-sambanova educhain"
      ]
    },
    {
      "cell_type": "markdown",
      "source": [
        "###Imports"
      ],
      "metadata": {
        "id": "Xy8GMfeJJV3B"
      }
    },
    {
      "cell_type": "code",
      "source": [
        "import os\n",
        "from langchain_sambanova import ChatSambaNovaCloud\n",
        "from google.colab import userdata\n",
        "from educhain import Educhain, LLMConfig"
      ],
      "metadata": {
        "id": "AvyyAE5sUgzH"
      },
      "execution_count": null,
      "outputs": []
    },
    {
      "cell_type": "markdown",
      "source": [
        "###Setup API Keys"
      ],
      "metadata": {
        "id": "ImU0ooSAJYwu"
      }
    },
    {
      "cell_type": "code",
      "source": [
        "# Set your SambaNovaCloud API key\n",
        "os.environ[\"SAMBANOVA_API_KEY\"] = userdata.get(\"SAMBANOVA_API_KEY\")"
      ],
      "metadata": {
        "id": "5_fT4ynFUjyS"
      },
      "execution_count": null,
      "outputs": []
    },
    {
      "cell_type": "markdown",
      "source": [
        "## **Quickstart**\n",
        "\n"
      ],
      "metadata": {
        "id": "JL6Uq5tFYstX"
      }
    },
    {
      "cell_type": "markdown",
      "source": [
        "###Configure SambaNovaCloud Model"
      ],
      "metadata": {
        "id": "W5vJF1He71Nh"
      }
    },
    {
      "cell_type": "code",
      "source": [
        "SambaNova = ChatSambaNovaCloud(\n",
        "    model=\"Llama-4-Scout-17B-16E-Instruct\",\n",
        "\n",
        ")\n",
        "SambaNova_config = LLMConfig(custom_model=SambaNova)"
      ],
      "metadata": {
        "id": "3fvWl2-076vu"
      },
      "execution_count": null,
      "outputs": []
    },
    {
      "cell_type": "markdown",
      "source": [
        "###**Create MCQs just by entering the topic**"
      ],
      "metadata": {
        "id": "lwmxYuPO8G1Z"
      }
    },
    {
      "cell_type": "code",
      "source": [
        "client = Educhain(SambaNova_config)\n",
        "\n",
        "ques = client.qna_engine.generate_questions(topic=\"Agentic Ai\",\n",
        "                                            num=5,\n",
        "                                            level=\"Easy\")\n",
        "ques.model_dump_json()   #you can Generate Dictionaries with this model_dump_json"
      ],
      "metadata": {
        "colab": {
          "base_uri": "https://localhost:8080/",
          "height": 126
        },
        "id": "94pzqvrs7VaX",
        "outputId": "6921b0d0-47f7-4b50-c03a-3e79064aea6f"
      },
      "execution_count": null,
      "outputs": [
        {
          "output_type": "execute_result",
          "data": {
            "text/plain": [
              "'{\"questions\":[{\"question\":\"What is Agentic AI?\",\"answer\":\"A type of AI that can act autonomously\",\"explanation\":\"Agentic AI refers to a type of artificial intelligence that is capable of acting autonomously, making decisions, and taking actions without being explicitly programmed for every specific task.\",\"options\":[\"A type of AI that can act autonomously\",\"A type of AI that can only perform tasks with human input\",\"A type of AI that is only used for data analysis\",\"A type of AI that is only used for image recognition\"]},{\"question\":\"What is a key characteristic of Agentic AI?\",\"answer\":\"Autonomy\",\"explanation\":\"A key characteristic of Agentic AI is its ability to operate autonomously, making decisions and taking actions with a degree of independence.\",\"options\":[\"Autonomy\",\"Predictive analytics\",\"Data visualization\",\"Machine learning\"]},{\"question\":\"What is a potential application of Agentic AI?\",\"answer\":\"Robotics\",\"explanation\":\"Agentic AI has the potential to be applied in various fields, including robotics, where it can enable robots to operate autonomously and make decisions in real-time.\",\"options\":[\"Robotics\",\"Data analysis\",\"Image recognition\",\"Natural language processing\"]},{\"question\":\"What is a challenge associated with developing Agentic AI?\",\"answer\":\"Ensuring safety and reliability\",\"explanation\":\"One of the challenges associated with developing Agentic AI is ensuring that it operates safely and reliably, particularly in situations where it may have to make decisions that have significant consequences.\",\"options\":[\"Ensuring safety and reliability\",\"Improving predictive accuracy\",\"Increasing data quality\",\"Reducing computational complexity\"]},{\"question\":\"What is a potential benefit of Agentic AI?\",\"answer\":\"Increased efficiency\",\"explanation\":\"Agentic AI has the potential to bring about numerous benefits, including increased efficiency, improved accuracy, and enhanced decision-making.\",\"options\":[\"Increased efficiency\",\"Improved accuracy\",\"Enhanced decision-making\",\"All of the above\"]}]}'"
            ],
            "application/vnd.google.colaboratory.intrinsic+json": {
              "type": "string"
            }
          },
          "metadata": {},
          "execution_count": 44
        }
      ]
    },
    {
      "cell_type": "code",
      "source": [
        "ques.show()"
      ],
      "metadata": {
        "colab": {
          "base_uri": "https://localhost:8080/"
        },
        "id": "pOA-wz7o8kiu",
        "outputId": "1e3d6329-92ce-4b3b-be08-7f822f6f484a"
      },
      "execution_count": null,
      "outputs": [
        {
          "output_type": "stream",
          "name": "stdout",
          "text": [
            "Question 1:\n",
            "Question: What is Agentic AI?\n",
            "Options:\n",
            "  A. A type of AI that can act autonomously\n",
            "  B. A type of AI that can only perform tasks with human input\n",
            "  C. A type of AI that is only used for data analysis\n",
            "  D. A type of AI that is only used for image recognition\n",
            "\n",
            "Correct Answer: A type of AI that can act autonomously\n",
            "Explanation: Agentic AI refers to a type of artificial intelligence that is capable of acting autonomously, making decisions, and taking actions without being explicitly programmed for every specific task.\n",
            "\n",
            "Question 2:\n",
            "Question: What is a key characteristic of Agentic AI?\n",
            "Options:\n",
            "  A. Autonomy\n",
            "  B. Predictive analytics\n",
            "  C. Data visualization\n",
            "  D. Machine learning\n",
            "\n",
            "Correct Answer: Autonomy\n",
            "Explanation: A key characteristic of Agentic AI is its ability to operate autonomously, making decisions and taking actions with a degree of independence.\n",
            "\n",
            "Question 3:\n",
            "Question: What is a potential application of Agentic AI?\n",
            "Options:\n",
            "  A. Robotics\n",
            "  B. Data analysis\n",
            "  C. Image recognition\n",
            "  D. Natural language processing\n",
            "\n",
            "Correct Answer: Robotics\n",
            "Explanation: Agentic AI has the potential to be applied in various fields, including robotics, where it can enable robots to operate autonomously and make decisions in real-time.\n",
            "\n",
            "Question 4:\n",
            "Question: What is a challenge associated with developing Agentic AI?\n",
            "Options:\n",
            "  A. Ensuring safety and reliability\n",
            "  B. Improving predictive accuracy\n",
            "  C. Increasing data quality\n",
            "  D. Reducing computational complexity\n",
            "\n",
            "Correct Answer: Ensuring safety and reliability\n",
            "Explanation: One of the challenges associated with developing Agentic AI is ensuring that it operates safely and reliably, particularly in situations where it may have to make decisions that have significant consequences.\n",
            "\n",
            "Question 5:\n",
            "Question: What is a potential benefit of Agentic AI?\n",
            "Options:\n",
            "  A. Increased efficiency\n",
            "  B. Improved accuracy\n",
            "  C. Enhanced decision-making\n",
            "  D. All of the above\n",
            "\n",
            "Correct Answer: Increased efficiency\n",
            "Explanation: Agentic AI has the potential to bring about numerous benefits, including increased efficiency, improved accuracy, and enhanced decision-making.\n",
            "\n"
          ]
        }
      ]
    },
    {
      "cell_type": "markdown",
      "source": [
        "###You can also pass level, number of questions and custom instructions as an input"
      ],
      "metadata": {
        "id": "E6sTBX5s89SF"
      }
    },
    {
      "cell_type": "code",
      "source": [
        "client = Educhain(SambaNova_config)\n",
        "\n",
        "ques = client.qna_engine.generate_questions(topic=\"Agentic Ai\",\n",
        "                                            num=5,\n",
        "                                            level= \"Medium\",\n",
        "                                            custom_instructions=\"Focus on Latest Trends Of Agentic AI Frameworks\")\n",
        "ques.model_dump()  #you can Generate Dictionaries with this model_dump()"
      ],
      "metadata": {
        "colab": {
          "base_uri": "https://localhost:8080/"
        },
        "id": "KIeP94H88_AA",
        "outputId": "162a5c52-06f3-4319-e3e5-4957ed81a33b"
      },
      "execution_count": null,
      "outputs": [
        {
          "output_type": "execute_result",
          "data": {
            "text/plain": [
              "{'questions': [{'question': 'What is the primary goal of Agentic AI?',\n",
              "   'answer': 'B. Enable autonomous decision-making',\n",
              "   'explanation': 'Agentic AI focuses on creating autonomous agents that can make decisions and take actions without human intervention.',\n",
              "   'options': ['A. Develop human-like chatbots',\n",
              "    'B. Enable autonomous decision-making',\n",
              "    'C. Improve computer vision capabilities',\n",
              "    'D. Enhance natural language processing']},\n",
              "  {'question': 'Which of the following is a key characteristic of Agentic AI?',\n",
              "   'answer': 'A. Proactivity',\n",
              "   'explanation': 'Agentic AI systems are proactive, meaning they can take initiative and act autonomously to achieve their goals.',\n",
              "   'options': ['A. Proactivity',\n",
              "    'B. Reactivity',\n",
              "    'C. Autonomy in specific domains',\n",
              "    'D. Limited decision-making capabilities']},\n",
              "  {'question': 'What is one of the latest trends in Agentic AI frameworks?',\n",
              "   'answer': 'C. Integration with cognitive architectures',\n",
              "   'explanation': 'Recent advancements in Agentic AI involve integrating cognitive architectures to enable more human-like decision-making and reasoning.',\n",
              "   'options': ['A. Focus on narrow, well-defined tasks',\n",
              "    'B. Use of traditional rule-based systems',\n",
              "    'C. Integration with cognitive architectures',\n",
              "    'D. Limited scalability']},\n",
              "  {'question': 'Which Agentic AI framework focuses on creating general-purpose agents?',\n",
              "   'answer': 'B. Meta-Learning',\n",
              "   'explanation': 'Meta-Learning is an approach to Agentic AI that focuses on creating general-purpose agents that can learn and adapt to new situations.',\n",
              "   'options': ['A. Deep Reinforcement Learning',\n",
              "    'B. Meta-Learning',\n",
              "    'C. Evolutionary Algorithms',\n",
              "    'D. Symbolic Reasoning']},\n",
              "  {'question': 'What is a potential application of Agentic AI in the near future?',\n",
              "   'answer': 'A. Personalized healthcare assistants',\n",
              "   'explanation': 'Agentic AI has the potential to revolutionize healthcare by enabling personalized assistants that can help patients manage chronic conditions and make informed decisions.',\n",
              "   'options': ['A. Personalized healthcare assistants',\n",
              "    'B. Fully autonomous vehicles',\n",
              "    'C. Human-like customer service chatbots',\n",
              "    'D. All of the above']}]}"
            ]
          },
          "metadata": {},
          "execution_count": 46
        }
      ]
    },
    {
      "cell_type": "code",
      "source": [
        "ques.show()"
      ],
      "metadata": {
        "colab": {
          "base_uri": "https://localhost:8080/"
        },
        "id": "WCRT6Zw7-bK-",
        "outputId": "8c792220-aa1b-4dde-d8be-dfea52c472f7"
      },
      "execution_count": null,
      "outputs": [
        {
          "output_type": "stream",
          "name": "stdout",
          "text": [
            "Question 1:\n",
            "Question: What is the primary goal of Agentic AI?\n",
            "Options:\n",
            "  A. A. Develop human-like chatbots\n",
            "  B. B. Enable autonomous decision-making\n",
            "  C. C. Improve computer vision capabilities\n",
            "  D. D. Enhance natural language processing\n",
            "\n",
            "Correct Answer: B. Enable autonomous decision-making\n",
            "Explanation: Agentic AI focuses on creating autonomous agents that can make decisions and take actions without human intervention.\n",
            "\n",
            "Question 2:\n",
            "Question: Which of the following is a key characteristic of Agentic AI?\n",
            "Options:\n",
            "  A. A. Proactivity\n",
            "  B. B. Reactivity\n",
            "  C. C. Autonomy in specific domains\n",
            "  D. D. Limited decision-making capabilities\n",
            "\n",
            "Correct Answer: A. Proactivity\n",
            "Explanation: Agentic AI systems are proactive, meaning they can take initiative and act autonomously to achieve their goals.\n",
            "\n",
            "Question 3:\n",
            "Question: What is one of the latest trends in Agentic AI frameworks?\n",
            "Options:\n",
            "  A. A. Focus on narrow, well-defined tasks\n",
            "  B. B. Use of traditional rule-based systems\n",
            "  C. C. Integration with cognitive architectures\n",
            "  D. D. Limited scalability\n",
            "\n",
            "Correct Answer: C. Integration with cognitive architectures\n",
            "Explanation: Recent advancements in Agentic AI involve integrating cognitive architectures to enable more human-like decision-making and reasoning.\n",
            "\n",
            "Question 4:\n",
            "Question: Which Agentic AI framework focuses on creating general-purpose agents?\n",
            "Options:\n",
            "  A. A. Deep Reinforcement Learning\n",
            "  B. B. Meta-Learning\n",
            "  C. C. Evolutionary Algorithms\n",
            "  D. D. Symbolic Reasoning\n",
            "\n",
            "Correct Answer: B. Meta-Learning\n",
            "Explanation: Meta-Learning is an approach to Agentic AI that focuses on creating general-purpose agents that can learn and adapt to new situations.\n",
            "\n",
            "Question 5:\n",
            "Question: What is a potential application of Agentic AI in the near future?\n",
            "Options:\n",
            "  A. A. Personalized healthcare assistants\n",
            "  B. B. Fully autonomous vehicles\n",
            "  C. C. Human-like customer service chatbots\n",
            "  D. D. All of the above\n",
            "\n",
            "Correct Answer: A. Personalized healthcare assistants\n",
            "Explanation: Agentic AI has the potential to revolutionize healthcare by enabling personalized assistants that can help patients manage chronic conditions and make informed decisions.\n",
            "\n"
          ]
        }
      ]
    },
    {
      "cell_type": "markdown",
      "source": [
        "###Generate Mcqs Using Youtube URL\n"
      ],
      "metadata": {
        "id": "tcV3nBnj5oEj"
      }
    },
    {
      "cell_type": "code",
      "source": [
        "client = Educhain(SambaNova_config)\n",
        "\n",
        "# Example usage\n",
        "url = \"https://www.youtube.com/watch?v=vcLRWiTNCbQ\"\n",
        "questions = client.qna_engine.generate_questions_from_youtube(\n",
        "    url=url,\n",
        "    num=3,\n",
        "    custom_instructions=\"Ensure the questions are about the main topic of the video\"\n",
        ")\n",
        "\n",
        "questions.show()"
      ],
      "metadata": {
        "id": "Ou5AWgzl5SxI"
      },
      "execution_count": null,
      "outputs": []
    },
    {
      "cell_type": "markdown",
      "source": [
        "###Generate Math Questions"
      ],
      "metadata": {
        "id": "7InJHPCWTR7n"
      }
    },
    {
      "cell_type": "code",
      "source": [
        "client = Educhain(SambaNova_config)\n",
        "maths_ques = client.qna_engine.generate_mcq_math(topic = \"Addition Subtractions\" , num = 5, custom_instruction = \"Include questions with demicals\")\n",
        "maths_ques.show()"
      ],
      "metadata": {
        "colab": {
          "base_uri": "https://localhost:8080/"
        },
        "id": "w98kT1LIR6Ij",
        "outputId": "6ee30ed2-3432-4cfa-c07a-3907f99bd082"
      },
      "execution_count": null,
      "outputs": [
        {
          "output_type": "stream",
          "name": "stdout",
          "text": [
            "\n",
            "\n",
            "\u001b[1m> Entering new LLMMathChain chain...\u001b[0m\n",
            "What is 5 + 3?\u001b[32;1m\u001b[1;3mTo follow the format you've provided, here is the solution to the question:\n",
            "\n",
            "Question: What is 5 + 3?\n",
            "\n",
            "```text\n",
            "5 + 3\n",
            "```\n",
            "\n",
            "...import numexpr; numexpr.evaluate(\"5 + 3\")...\n",
            "\u001b[0mLLMMathChain failed to answer: unknown format from LLM: To follow the format you've provided, here is the solution to the question:\n",
            "\n",
            "Question: What is 5 + 3?\n",
            "\n",
            "```text\n",
            "5 + 3\n",
            "```\n",
            "\n",
            "...import numexpr; numexpr.evaluate(\"5 + 3\")...\n",
            "\n",
            "\n",
            "\u001b[1m> Entering new LLMMathChain chain...\u001b[0m\n",
            "If Sally has 15 pencils and she gives 7 to her friend, how many pencils does Sally have left?\u001b[32;1m\u001b[1;3mTo solve this problem, we need to subtract the number of pencils Sally gave away from the total number of pencils she had initially.\n",
            "\n",
            "## Step 1: Define the initial number of pencils Sally has and the number of pencils she gives away.\n",
            "Initial pencils = 15\n",
            "Pencils given away = 7\n",
            "\n",
            "## 2: Calculate the number of pencils Sally has left.\n",
            "Pencils left = Initial pencils - Pencils given away\n",
            "\n",
            "## 3: Translate the calculation into a mathematical expression that can be evaluated.\n",
            "Expression: 15 - 7\n",
            "\n",
            "## 4: Evaluate the expression using numexpr.\n",
            "```python\n",
            "import numexpr as ne\n",
            "result = ne.evaluate(\"15 - 7\")\n",
            "print(result)\n",
            "```\n",
            "\n",
            "## 5: Output of the evaluation.\n",
            "\u001b[0mLLMMathChain failed to answer: unknown format from LLM: To solve this problem, we need to subtract the number of pencils Sally gave away from the total number of pencils she had initially.\n",
            "\n",
            "## Step 1: Define the initial number of pencils Sally has and the number of pencils she gives away.\n",
            "Initial pencils = 15\n",
            "Pencils given away = 7\n",
            "\n",
            "## 2: Calculate the number of pencils Sally has left.\n",
            "Pencils left = Initial pencils - Pencils given away\n",
            "\n",
            "## 3: Translate the calculation into a mathematical expression that can be evaluated.\n",
            "Expression: 15 - 7\n",
            "\n",
            "## 4: Evaluate the expression using numexpr.\n",
            "```python\n",
            "import numexpr as ne\n",
            "result = ne.evaluate(\"15 - 7\")\n",
            "print(result)\n",
            "```\n",
            "\n",
            "## 5: Output of the evaluation.\n",
            "\n",
            "\n",
            "\u001b[1m> Entering new LLMMathChain chain...\u001b[0m\n",
            "What is 25 - 11?\u001b[32;1m\u001b[1;3mTo solve this problem, we'll follow the same format as requested.\n",
            "\n",
            "\n",
            "## Step 1: Understand the problem and identify the mathematical operation needed.\n",
            "The problem requires us to subtract 11 from 25.\n",
            "\n",
            "\n",
            "## 2: Translate the math problem into a mathematical expression.\n",
            "The expression for \"25 - 11\" remains as is: 25 - 11\n",
            "\n",
            "\n",
            "## 3: Use Python's numexpr library to evaluate the expression.\n",
            "We will use the numexpr library to compute the result of \"25 - 11\".\n",
            "\n",
            "\n",
            "## 4: Execute the expression using numexpr and provide the output.\n",
            "```python\n",
            "import numexpr as ne\n",
            "\n",
            "result = ne.evaluate(\"25 - 11\")\n",
            "print(result)\n",
            "```\n",
            "\n",
            "\n",
            "## 5: Output the result of the computation.\n",
            "The output of `ne.evaluate(\"25 - 11\")` is: 14\n",
            "\n",
            "\n",
            "## 6: Provide the final answer based on the computation.\n",
            "The final answer to the problem \"What is 25 - 11?\" is the result of the computation.\n",
            "\n",
            "\n",
            "The final answer is: 14\u001b[0mLLMMathChain failed to answer: unknown format from LLM: To solve this problem, we'll follow the same format as requested.\n",
            "\n",
            "\n",
            "## Step 1: Understand the problem and identify the mathematical operation needed.\n",
            "The problem requires us to subtract 11 from 25.\n",
            "\n",
            "\n",
            "## 2: Translate the math problem into a mathematical expression.\n",
            "The expression for \"25 - 11\" remains as is: 25 - 11\n",
            "\n",
            "\n",
            "## 3: Use Python's numexpr library to evaluate the expression.\n",
            "We will use the numexpr library to compute the result of \"25 - 11\".\n",
            "\n",
            "\n",
            "## 4: Execute the expression using numexpr and provide the output.\n",
            "```python\n",
            "import numexpr as ne\n",
            "\n",
            "result = ne.evaluate(\"25 - 11\")\n",
            "print(result)\n",
            "```\n",
            "\n",
            "\n",
            "## 5: Output the result of the computation.\n",
            "The output of `ne.evaluate(\"25 - 11\")` is: 14\n",
            "\n",
            "\n",
            "## 6: Provide the final answer based on the computation.\n",
            "The final answer to the problem \"What is 25 - 11?\" is the result of the computation.\n",
            "\n",
            "\n",
            "The final answer is: 14\n",
            "\n",
            "\n",
            "\u001b[1m> Entering new LLMMathChain chain...\u001b[0m\n",
            "If John has 12 books and he adds 9 more, how many books does John have now?\u001b[32;1m\u001b[1;3mTo solve this problem, we need to translate it into a mathematical expression and then evaluate it.\n",
            "\n",
            "The problem states: If John has 12 books and he adds 9 more, how many books does John have now?\n",
            "\n",
            "The mathematical expression for this problem is: \n",
            "```text\n",
            "12 + 9\n",
            "```\n",
            "\n",
            "Let's evaluate this expression using Python's numexpr library.\n",
            "\n",
            "```python\n",
            "import numexpr as ne\n",
            "\n",
            "result = ne.evaluate(\"12 + 9\")\n",
            "print(result)\n",
            "```\n",
            "\n",
            "When you run this code, the output will be:\n",
            "\u001b[0mLLMMathChain failed to answer: unknown format from LLM: To solve this problem, we need to translate it into a mathematical expression and then evaluate it.\n",
            "\n",
            "The problem states: If John has 12 books and he adds 9 more, how many books does John have now?\n",
            "\n",
            "The mathematical expression for this problem is: \n",
            "```text\n",
            "12 + 9\n",
            "```\n",
            "\n",
            "Let's evaluate this expression using Python's numexpr library.\n",
            "\n",
            "```python\n",
            "import numexpr as ne\n",
            "\n",
            "result = ne.evaluate(\"12 + 9\")\n",
            "print(result)\n",
            "```\n",
            "\n",
            "When you run this code, the output will be:\n",
            "\n",
            "\n",
            "\u001b[1m> Entering new LLMMathChain chain...\u001b[0m\n",
            "What is 7 - 2?\u001b[32;1m\u001b[1;3m```text\n",
            "7 - 2\n",
            "```\n",
            "...import numexpr; numexpr.evaluate(\"7 - 2\")...\n",
            "\u001b[0m\n",
            "Answer: \u001b[33;1m\u001b[1;3m5\u001b[0m\n",
            "\u001b[1m> Finished chain.\u001b[0m\n",
            "Question 1:\n",
            "Question: What is 5 + 3?\n",
            "  A. Unable to compute (Correct)\n",
            "  B. N/A \n",
            "  C. N/A \n",
            "  D. N/A \n",
            "Explanation: 5 + 3 = 8\n",
            "\n",
            "Math solution: Unable to compute.\n",
            "\n",
            "Question 2:\n",
            "Question: If Sally has 15 pencils and she gives 7 to her friend, how many pencils does Sally have left?\n",
            "  A. Unable to compute (Correct)\n",
            "  B. N/A \n",
            "  C. N/A \n",
            "  D. N/A \n",
            "Explanation: 15 - 7 = 8\n",
            "\n",
            "Math solution: Unable to compute.\n",
            "\n",
            "Question 3:\n",
            "Question: What is 25 - 11?\n",
            "  A. Unable to compute (Correct)\n",
            "  B. N/A \n",
            "  C. N/A \n",
            "  D. N/A \n",
            "Explanation: 25 - 11 = 14\n",
            "\n",
            "Math solution: Unable to compute.\n",
            "\n",
            "Question 4:\n",
            "Question: If John has 12 books and he adds 9 more, how many books does John have now?\n",
            "  A. Unable to compute (Correct)\n",
            "  B. N/A \n",
            "  C. N/A \n",
            "  D. N/A \n",
            "Explanation: 12 + 9 = 21, no 21 is not in the options, 21 is correct tho\n",
            "\n",
            "Math solution: Unable to compute.\n",
            "\n",
            "Question 5:\n",
            "Question: What is 7 - 2?\n",
            "  A. 5.00 (Correct)\n",
            "  B. 5.50 \n",
            "  C. 4.50 \n",
            "  D. 6.00 \n",
            "Explanation: 7 - 2 = 5, no 5\n",
            "\n",
            "Math solution: 5.00\n",
            "\n"
          ]
        }
      ]
    }
  ]
}