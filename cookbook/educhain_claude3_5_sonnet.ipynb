{
  "cells": [
    {
      "cell_type": "markdown",
      "source": [
        "[![Open In Colab](https://colab.research.google.com/assets/colab-badge.svg)](https://colab.research.google.com/drive/1-t8Lvh10g3Qj_6bALuWIySqEHX9wWyjw?usp=sharing)"
      ],
      "metadata": {
        "id": "dNGLGan2h4I2"
      }
    },
    {
      "cell_type": "markdown",
      "source": [
        "## Educhain + Claude 3.5 Sonnet\n",
        "\n",
        "Generate high quality MCQs with Educhain & Claude 3.5 Sonnet in a flash!"
      ],
      "metadata": {
        "id": "ZOXOIvSmh_GT"
      }
    },
    {
      "cell_type": "code",
      "execution_count": null,
      "metadata": {
        "colab": {
          "base_uri": "https://localhost:8080/"
        },
        "id": "d1L8uTg01jyV",
        "outputId": "7fa6a68c-9795-4690-bbca-cfd4aa4d9e0d"
      },
      "outputs": [
        {
          "output_type": "stream",
          "name": "stdout",
          "text": [
            "\u001b[2K     \u001b[90m━━━━━━━━━━━━━━━━━━━━━━━━━━━━━━━━━━━━━━━━\u001b[0m \u001b[32m975.5/975.5 kB\u001b[0m \u001b[31m6.5 MB/s\u001b[0m eta \u001b[36m0:00:00\u001b[0m\n",
            "\u001b[2K     \u001b[90m━━━━━━━━━━━━━━━━━━━━━━━━━━━━━━━━━━━━━━━━\u001b[0m \u001b[32m2.2/2.2 MB\u001b[0m \u001b[31m14.7 MB/s\u001b[0m eta \u001b[36m0:00:00\u001b[0m\n",
            "\u001b[2K     \u001b[90m━━━━━━━━━━━━━━━━━━━━━━━━━━━━━━━━━━━━━━━━\u001b[0m \u001b[32m40.6/40.6 kB\u001b[0m \u001b[31m2.9 MB/s\u001b[0m eta \u001b[36m0:00:00\u001b[0m\n",
            "\u001b[2K     \u001b[90m━━━━━━━━━━━━━━━━━━━━━━━━━━━━━━━━━━━━━━━━\u001b[0m \u001b[32m327.5/327.5 kB\u001b[0m \u001b[31m16.7 MB/s\u001b[0m eta \u001b[36m0:00:00\u001b[0m\n",
            "\u001b[2K     \u001b[90m━━━━━━━━━━━━━━━━━━━━━━━━━━━━━━━━━━━━━━━━\u001b[0m \u001b[32m1.9/1.9 MB\u001b[0m \u001b[31m23.6 MB/s\u001b[0m eta \u001b[36m0:00:00\u001b[0m\n",
            "\u001b[2K     \u001b[90m━━━━━━━━━━━━━━━━━━━━━━━━━━━━━━━━━━━━━━━━\u001b[0m \u001b[32m863.5/863.5 kB\u001b[0m \u001b[31m22.6 MB/s\u001b[0m eta \u001b[36m0:00:00\u001b[0m\n",
            "\u001b[2K     \u001b[90m━━━━━━━━━━━━━━━━━━━━━━━━━━━━━━━━━━━━━━━━\u001b[0m \u001b[32m332.8/332.8 kB\u001b[0m \u001b[31m20.5 MB/s\u001b[0m eta \u001b[36m0:00:00\u001b[0m\n",
            "\u001b[2K     \u001b[90m━━━━━━━━━━━━━━━━━━━━━━━━━━━━━━━━━━━━━━━━\u001b[0m \u001b[32m75.6/75.6 kB\u001b[0m \u001b[31m3.5 MB/s\u001b[0m eta \u001b[36m0:00:00\u001b[0m\n",
            "\u001b[2K     \u001b[90m━━━━━━━━━━━━━━━━━━━━━━━━━━━━━━━━━━━━━━━━\u001b[0m \u001b[32m318.9/318.9 kB\u001b[0m \u001b[31m17.0 MB/s\u001b[0m eta \u001b[36m0:00:00\u001b[0m\n",
            "\u001b[2K     \u001b[90m━━━━━━━━━━━━━━━━━━━━━━━━━━━━━━━━━━━━━━━━\u001b[0m \u001b[32m127.4/127.4 kB\u001b[0m \u001b[31m8.5 MB/s\u001b[0m eta \u001b[36m0:00:00\u001b[0m\n",
            "\u001b[2K     \u001b[90m━━━━━━━━━━━━━━━━━━━━━━━━━━━━━━━━━━━━━━━━\u001b[0m \u001b[32m1.1/1.1 MB\u001b[0m \u001b[31m14.5 MB/s\u001b[0m eta \u001b[36m0:00:00\u001b[0m\n",
            "\u001b[2K     \u001b[90m━━━━━━━━━━━━━━━━━━━━━━━━━━━━━━━━━━━━━━━━\u001b[0m \u001b[32m49.2/49.2 kB\u001b[0m \u001b[31m2.9 MB/s\u001b[0m eta \u001b[36m0:00:00\u001b[0m\n",
            "\u001b[2K     \u001b[90m━━━━━━━━━━━━━━━━━━━━━━━━━━━━━━━━━━━━━━━━\u001b[0m \u001b[32m77.9/77.9 kB\u001b[0m \u001b[31m8.8 MB/s\u001b[0m eta \u001b[36m0:00:00\u001b[0m\n",
            "\u001b[2K     \u001b[90m━━━━━━━━━━━━━━━━━━━━━━━━━━━━━━━━━━━━━━━━\u001b[0m \u001b[32m58.3/58.3 kB\u001b[0m \u001b[31m3.2 MB/s\u001b[0m eta \u001b[36m0:00:00\u001b[0m\n",
            "\u001b[2K     \u001b[90m━━━━━━━━━━━━━━━━━━━━━━━━━━━━━━━━━━━━━━━━\u001b[0m \u001b[32m145.0/145.0 kB\u001b[0m \u001b[31m3.3 MB/s\u001b[0m eta \u001b[36m0:00:00\u001b[0m\n",
            "\u001b[?25h"
          ]
        }
      ],
      "source": [
        "!pip install -qU educhain langchain_anthropic"
      ]
    },
    {
      "cell_type": "code",
      "execution_count": null,
      "metadata": {
        "id": "EpFqH5_WXQq_"
      },
      "outputs": [],
      "source": [
        "import os\n",
        "from google.colab import userdata\n",
        "\n",
        "os.environ[\"ANTHROPIC_API_KEY\"] = userdata.get('ANTHROPIC_API_KEY')"
      ]
    },
    {
      "cell_type": "code",
      "execution_count": null,
      "metadata": {
        "id": "2AESsAOd-xfF"
      },
      "outputs": [],
      "source": [
        "from langchain_anthropic import ChatAnthropic\n",
        "\n",
        "sonnet = ChatAnthropic(model = \"claude-3-5-sonnet-20240620\")"
      ]
    },
    {
      "cell_type": "code",
      "source": [
        "from educhain import Educhain, LLMConfig\n",
        "\n",
        "sonnet_config = LLMConfig(custom_model=sonnet)\n",
        "\n",
        "client = Educhain(sonnet_config)\n",
        "\n",
        "questions = client.qna_engine.generate_questions(topic = \"Functions - Calculus\",\n",
        "                                    num = 5\n",
        "                                    )\n",
        "\n",
        "questions"
      ],
      "metadata": {
        "colab": {
          "base_uri": "https://localhost:8080/"
        },
        "id": "YVq1bTXviJLI",
        "outputId": "d51bf077-2c92-44e4-83bf-298a0cf72ef3"
      },
      "execution_count": null,
      "outputs": [
        {
          "output_type": "execute_result",
          "data": {
            "text/plain": [
              "MCQList(questions=[MCQ(question='What is the derivative of f(x) = x^2?', options=[\"f'(x) = x\", \"f'(x) = 2x\", \"f'(x) = 2\", \"f'(x) = x^2\"], correct_answer=\"f'(x) = 2x\", explanation='The derivative of x^2 is 2x using the power rule: d/dx(x^n) = nx^(n-1).'), MCQ(question='Which of the following is an example of a discontinuous function?', options=['f(x) = x^2', 'f(x) = sin(x)', 'f(x) = 1/x', 'f(x) = e^x'], correct_answer='f(x) = 1/x', explanation=\"The function f(x) = 1/x is discontinuous at x = 0, as it's undefined at this point.\"), MCQ(question='What is the integral of f(x) = 2x?', options=['F(x) = x^2 + C', 'F(x) = 2x^2 + C', 'F(x) = x^2/2 + C', 'F(x) = 2x + C'], correct_answer='F(x) = x^2 + C', explanation='The integral of 2x is x^2 + C, as the derivative of x^2 is 2x.'), MCQ(question='Which of the following is true for an even function?', options=['f(-x) = f(x)', 'f(-x) = -f(x)', 'f(x+y) = f(x) + f(y)', 'f(xy) = f(x)f(y)'], correct_answer='f(-x) = f(x)', explanation='An even function is symmetric about the y-axis, meaning f(-x) = f(x) for all x in the domain of f.'), MCQ(question='What is the limit of (sin x)/x as x approaches 0?', options=['0', '1', 'Undefined', 'Infinity'], correct_answer='1', explanation='This is a famous limit in calculus. Although it appears to be 0/0 (indeterminate form), the limit actually exists and equals 1.')])"
            ]
          },
          "metadata": {},
          "execution_count": 6
        }
      ]
    },
    {
      "cell_type": "code",
      "source": [
        "questions.show()"
      ],
      "metadata": {
        "colab": {
          "base_uri": "https://localhost:8080/"
        },
        "id": "eRO5DcWlJaok",
        "outputId": "2874fe5b-f870-488f-f678-e73a521b870b"
      },
      "execution_count": null,
      "outputs": [
        {
          "output_type": "stream",
          "name": "stdout",
          "text": [
            "MCQs:\n",
            "\n",
            "Question 1:\n",
            "Question: What is the derivative of f(x) = x^2?\n",
            "Options:\n",
            "  A. f'(x) = x\n",
            "  B. f'(x) = 2x\n",
            "  C. f'(x) = 2\n",
            "  D. f'(x) = x^2\n",
            "Correct Answer: f'(x) = 2x\n",
            "Explanation: The derivative of x^2 is 2x using the power rule: d/dx(x^n) = nx^(n-1).\n",
            "\n",
            "Question 2:\n",
            "Question: Which of the following is an example of a discontinuous function?\n",
            "Options:\n",
            "  A. f(x) = x^2\n",
            "  B. f(x) = sin(x)\n",
            "  C. f(x) = 1/x\n",
            "  D. f(x) = e^x\n",
            "Correct Answer: f(x) = 1/x\n",
            "Explanation: The function f(x) = 1/x is discontinuous at x = 0, as it's undefined at this point.\n",
            "\n",
            "Question 3:\n",
            "Question: What is the integral of f(x) = 2x?\n",
            "Options:\n",
            "  A. F(x) = x^2 + C\n",
            "  B. F(x) = 2x^2 + C\n",
            "  C. F(x) = x^2/2 + C\n",
            "  D. F(x) = 2x + C\n",
            "Correct Answer: F(x) = x^2 + C\n",
            "Explanation: The integral of 2x is x^2 + C, as the derivative of x^2 is 2x.\n",
            "\n",
            "Question 4:\n",
            "Question: Which of the following is true for an even function?\n",
            "Options:\n",
            "  A. f(-x) = f(x)\n",
            "  B. f(-x) = -f(x)\n",
            "  C. f(x+y) = f(x) + f(y)\n",
            "  D. f(xy) = f(x)f(y)\n",
            "Correct Answer: f(-x) = f(x)\n",
            "Explanation: An even function is symmetric about the y-axis, meaning f(-x) = f(x) for all x in the domain of f.\n",
            "\n",
            "Question 5:\n",
            "Question: What is the limit of (sin x)/x as x approaches 0?\n",
            "Options:\n",
            "  A. 0\n",
            "  B. 1\n",
            "  C. Undefined\n",
            "  D. Infinity\n",
            "Correct Answer: 1\n",
            "Explanation: This is a famous limit in calculus. Although it appears to be 0/0 (indeterminate form), the limit actually exists and equals 1.\n",
            "\n"
          ]
        }
      ]
    },
    {
      "cell_type": "code",
      "source": [],
      "metadata": {
        "id": "60_DRNlmiNSt"
      },
      "execution_count": null,
      "outputs": []
    }
  ],
  "metadata": {
    "colab": {
      "provenance": []
    },
    "kernelspec": {
      "display_name": "Python 3",
      "name": "python3"
    },
    "language_info": {
      "name": "python"
    }
  },
  "nbformat": 4,
  "nbformat_minor": 0
}